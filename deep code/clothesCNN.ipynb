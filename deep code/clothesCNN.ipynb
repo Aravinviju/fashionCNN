{
 "cells": [
  {
   "cell_type": "code",
   "execution_count": 2,
   "metadata": {},
   "outputs": [
    {
     "name": "stderr",
     "output_type": "stream",
     "text": [
      "/home/dl1/anaconda3/lib/python3.6/site-packages/h5py/__init__.py:36: FutureWarning: Conversion of the second argument of issubdtype from `float` to `np.floating` is deprecated. In future, it will be treated as `np.float64 == np.dtype(float).type`.\n",
      "  from ._conv import register_converters as _register_converters\n"
     ]
    }
   ],
   "source": [
    "import os\n",
    "import tensorflow as tf\n",
    "# config = tf.ConfigProto(allow_soft_placement=True)\n",
    "# config.gpu_options.allocator_type = 'BFC'\n",
    "# config.gpu_options.per_process_gpu_memory_fraction = 0.40"
   ]
  },
  {
   "cell_type": "code",
   "execution_count": 3,
   "metadata": {},
   "outputs": [],
   "source": [
    "# !pip install tensorflow-gpu==1.5.0\n",
    "# from keras.optimizers import SGD"
   ]
  },
  {
   "cell_type": "code",
   "execution_count": 4,
   "metadata": {},
   "outputs": [],
   "source": [
    "# gpu_options = tf.GPUOptions(allow_growth=True)\n",
    "# session = tf.InteractiveSession(config=tf.ConfigProto(gpu_options=gpu_options))\n",
    "\n",
    "#Specifying the GPUs for use:\n",
    "os.environ[\"CUDA_DEVICE_ORDER\"]=\"PCI_BUS_ID\"   \n",
    "os.environ[\"CUDA_VISIBLE_DEVICES\"]=\"0,1,2\"\n",
    "\n",
    "# from tensorflow.python.client import device_lib\n",
    "# print (device_lib.list_local_devices())"
   ]
  },
  {
   "cell_type": "code",
   "execution_count": 5,
   "metadata": {},
   "outputs": [
    {
     "name": "stderr",
     "output_type": "stream",
     "text": [
      "Using TensorFlow backend.\n"
     ]
    }
   ],
   "source": [
    "# -*- coding: utf-8 -*-\n",
    "\"\"\"\n",
    "@author: Aravindhan Poopathy\n",
    "\"\"\"\n",
    "\n",
    "from __future__ import print_function\n",
    "import numpy as np\n",
    "import matplotlib.pyplot as plt\n",
    "%matplotlib inline\n",
    "import keras\n",
    "from keras.models import Sequential\n",
    "from keras.layers import Dense, Conv2D, MaxPooling2D, Dropout, Flatten\n",
    "import glob\n",
    "from PIL import Image\n",
    "import cv2\n",
    "from keras.utils import to_categorical\n",
    "import matplotlib.image as mpimg\n",
    "import random\n",
    "from sklearn.model_selection import train_test_split\n",
    "from keras.preprocessing.image import ImageDataGenerator\n",
    "from keras.models import load_model"
   ]
  },
  {
   "cell_type": "code",
   "execution_count": 6,
   "metadata": {},
   "outputs": [],
   "source": [
    "#reading the files from the input directories:\n",
    "\n",
    "input_dir_coats    = '/home/dl1/fashionCNN/deepfashion/coats&jackets/'\n",
    "input_dir_sweaters = '/home/dl1/fashionCNN/deepfashion/sweaters/'\n",
    "input_dir_teescasuals = '/home/dl1/fashionCNN/deepfashion/tees&casuals/'\n",
    "input_dir_shirts   ='/home/dl1/fashionCNN/deepfashion/shirt/'\n"
   ]
  },
  {
   "cell_type": "code",
   "execution_count": 7,
   "metadata": {},
   "outputs": [
    {
     "name": "stdout",
     "output_type": "stream",
     "text": [
      "1310\n",
      "1090\n",
      "762\n",
      "1457\n"
     ]
    }
   ],
   "source": [
    "#file path creation and labelling\n",
    "\n",
    "path_list = []\n",
    "\n",
    "for i,filec in enumerate(os.listdir(input_dir_coats)):\n",
    "    path_list.append(os.path.join(input_dir_coats, filec))\n",
    "i+=1\n",
    "coatslabel = [0] * i\n",
    "\n",
    "print(len(coatslabel))\n",
    "\n",
    "for i,files in enumerate(os.listdir(input_dir_sweaters)):\n",
    "    path_list.append(os.path.join(input_dir_sweaters, files))\n",
    "i+=1\n",
    "sweaterlabel = [1] * i\n",
    "\n",
    "print(len(sweaterlabel))\n",
    "\n",
    "\n",
    "for i,filet in enumerate(os.listdir(input_dir_teescasuals)):\n",
    "    path_list.append(os.path.join(input_dir_teescasuals, filet))\n",
    "i+=1\n",
    "teeslabel = [2] * i\n",
    "\n",
    "print(len(teeslabel))\n",
    "\n",
    "for i,filesh in enumerate(os.listdir(input_dir_shirts)):\n",
    "    path_list.append(os.path.join(input_dir_shirts, filesh))\n",
    "i+=1\n",
    "shirtlabel = [3] * i\n",
    "\n",
    "print(len(shirtlabel))\n"
   ]
  },
  {
   "cell_type": "code",
   "execution_count": 8,
   "metadata": {},
   "outputs": [
    {
     "data": {
      "text/plain": [
       "4619"
      ]
     },
     "execution_count": 8,
     "metadata": {},
     "output_type": "execute_result"
    }
   ],
   "source": [
    "#input label\n",
    "labels = coatslabel + sweaterlabel + teeslabel  + shirtlabel\n",
    "# input_labels\n",
    "labarr=np.asarray(labels)\n",
    "len(labarr)"
   ]
  },
  {
   "cell_type": "code",
   "execution_count": 9,
   "metadata": {},
   "outputs": [],
   "source": [
    "# ima = cv2.imread(\"/home/dl1/fashionCNN/deepfashion/coats&jackets/1.jpg\")\n",
    "# print(type(ima))\n",
    "# # cv2.imshow('image',ima)\n",
    "# # cv2.waitKey(0)\n",
    "# # cv2.destroyAllWindows()"
   ]
  },
  {
   "cell_type": "code",
   "execution_count": 10,
   "metadata": {},
   "outputs": [
    {
     "data": {
      "text/plain": [
       "list"
      ]
     },
     "execution_count": 10,
     "metadata": {},
     "output_type": "execute_result"
    }
   ],
   "source": [
    "#reading the input data and resizing it as the data scrapped from different websites will in different sizes\n",
    "\n",
    "input_data = []\n",
    "\n",
    "for img in path_list:\n",
    "    image = Image.open(img).convert('RGB')\n",
    "#     sqrWidth = np.ceil(np.sqrt(image.size[0]*image.size[1])).astype(int)\n",
    "#     new_image = image.resize((sqrWidth,sqrWidth))\n",
    "    new_image = image.resize((224,224))\n",
    "#converting it to numpy array as Image List type cannot be converted to an array    \n",
    "    final_image = np.array(new_image)\n",
    "    input_data.append(final_image)\n",
    "\n",
    "type(input_data)"
   ]
  },
  {
   "cell_type": "code",
   "execution_count": 11,
   "metadata": {},
   "outputs": [
    {
     "data": {
      "text/plain": [
       "(4619, 224, 224, 3)"
      ]
     },
     "execution_count": 11,
     "metadata": {},
     "output_type": "execute_result"
    }
   ],
   "source": [
    "in_data=np.asarray(input_data)\n",
    "in_data.shape"
   ]
  },
  {
   "cell_type": "code",
   "execution_count": 12,
   "metadata": {},
   "outputs": [],
   "source": [
    "#shufflig the data and the label equally for eleminating overfitting\n",
    "\n",
    "arr = np.arange(len(labarr))\n",
    "np.random.shuffle(arr)\n",
    "data = in_data[arr]\n",
    "labarr = labarr[arr]\n"
   ]
  },
  {
   "cell_type": "code",
   "execution_count": 13,
   "metadata": {},
   "outputs": [
    {
     "name": "stdout",
     "output_type": "stream",
     "text": [
      "(3695, 224, 224, 3)\n",
      "(924, 224, 224, 3)\n"
     ]
    }
   ],
   "source": [
    "#Train and Test split\n",
    "\n",
    "X_train, X_test, label_train, label_test = train_test_split(data, labarr, test_size=0.2)\n",
    "\n",
    "print(X_train.shape)\n",
    "print(X_test.shape)"
   ]
  },
  {
   "cell_type": "code",
   "execution_count": 14,
   "metadata": {},
   "outputs": [
    {
     "name": "stdout",
     "output_type": "stream",
     "text": [
      "Output classes :  [0 1 2 3]\n",
      "Total number of outputs :  4\n"
     ]
    }
   ],
   "source": [
    "# Find the unique numbers from the train labels\n",
    "classes = np.unique(label_train)\n",
    "nClasses = len(classes)\n",
    "print('Output classes : ', classes)\n",
    "print('Total number of outputs : ', nClasses)"
   ]
  },
  {
   "cell_type": "code",
   "execution_count": 15,
   "metadata": {},
   "outputs": [
    {
     "name": "stdout",
     "output_type": "stream",
     "text": [
      "Training data shape :  (3695, 224, 224, 3) (3695,)\n",
      "Testing data shape :  (924, 224, 224, 3) (924,)\n"
     ]
    }
   ],
   "source": [
    "# Find the shape of input images and create the variable input_shape\n",
    "nRows,nCols,nDims = X_train.shape[1:]\n",
    "train_data = X_train.reshape(X_train.shape[0], nRows, nCols, nDims)\n",
    "test_data = X_test.reshape(X_test.shape[0], nRows, nCols, nDims)\n",
    "print('Training data shape : ', X_train.shape, label_train.shape)\n",
    "\n",
    "print('Testing data shape : ', X_test.shape, label_test.shape)\n",
    "input_shape = (nRows, nCols, nDims)"
   ]
  },
  {
   "cell_type": "code",
   "execution_count": 16,
   "metadata": {},
   "outputs": [],
   "source": [
    "# Change to float datatype\n",
    "train_data = train_data.astype('float32')\n",
    "test_data = test_data.astype('float32')\n",
    "\n",
    "# Scale the data to lie between 0 to 1\n",
    "train_data /= 255\n",
    "test_data /= 255\n",
    "\n",
    "# Change the labels from integer to categorical data\n",
    "train_labels_one_hot = to_categorical(label_train,nClasses)\n",
    "test_labels_one_hot = to_categorical(label_test,nClasses)"
   ]
  },
  {
   "cell_type": "code",
   "execution_count": 17,
   "metadata": {},
   "outputs": [
    {
     "name": "stdout",
     "output_type": "stream",
     "text": [
      "Original label 0 :  3\n",
      "After conversion to categorical ( one-hot ) :  [0. 0. 0. 1.]\n"
     ]
    }
   ],
   "source": [
    "# Display the change for category label using one-hot encoding\n",
    "print('Original label 0 : ', label_train[0])\n",
    "print('After conversion to categorical ( one-hot ) : ', train_labels_one_hot[0])"
   ]
  },
  {
   "cell_type": "code",
   "execution_count": 23,
   "metadata": {},
   "outputs": [],
   "source": [
    "#Model creation:\n",
    "\n",
    "#General Model\n",
    "\n",
    "def createModel():\n",
    "    model = Sequential()\n",
    "    # The first two layers with 32 filters of window size 3x3\n",
    "    model.add(Conv2D(32, (3, 3), padding='same', activation='relu', input_shape=input_shape))\n",
    "    model.add(Conv2D(32, (3, 3), activation='relu'))\n",
    "    model.add(MaxPooling2D(pool_size=(2, 2)))\n",
    "    model.add(Dropout(0.25))\n",
    "\n",
    "    model.add(Conv2D(64, (3, 3), padding='same', activation='relu'))\n",
    "    model.add(Conv2D(64, (3, 3), activation='relu'))\n",
    "    model.add(MaxPooling2D(pool_size=(2, 2)))\n",
    "    model.add(Dropout(0.25))\n",
    "\n",
    "    model.add(Conv2D(64, (3, 3), padding='same', activation='relu'))\n",
    "    model.add(Conv2D(64, (3, 3), activation='relu'))\n",
    "    model.add(MaxPooling2D(pool_size=(2, 2)))\n",
    "    model.add(Dropout(0.25))\n",
    "    \n",
    "    model.add(Conv2D(128, (3, 3), padding='same', activation='relu'))\n",
    "    model.add(Conv2D(128, (3, 3), activation='relu'))\n",
    "    model.add(MaxPooling2D(pool_size=(2, 2)))\n",
    "    model.add(Dropout(0.25))\n",
    "\n",
    "    model.add(Flatten())\n",
    "    \n",
    "    model.add(Dense(512, activation='relu'))\n",
    "    model.add(Dropout(0.5))\n",
    "\n",
    "#     model.add(Dense(512, activation='relu'))\n",
    "#     model.add(Dropout(0.5))\n",
    "    model.add(Dense(nClasses, activation='softmax'))\n",
    "\n",
    "    return model\n",
    "\n",
    "model1 = createModel()\n",
    "batch_size = 50\n",
    "epochs = 40"
   ]
  },
  {
   "cell_type": "code",
   "execution_count": 25,
   "metadata": {},
   "outputs": [],
   "source": [
    "# #Data Augumentation\n",
    "datagen = ImageDataGenerator(horizontal_flip=True,\n",
    "          rotation_range=10.0,\n",
    "          zoom_range = 0.2,  \n",
    "           fill_mode = \"nearest\")"
   ]
  },
  {
   "cell_type": "code",
   "execution_count": 26,
   "metadata": {},
   "outputs": [
    {
     "name": "stdout",
     "output_type": "stream",
     "text": [
      "_________________________________________________________________\n",
      "Layer (type)                 Output Shape              Param #   \n",
      "=================================================================\n",
      "conv2d_9 (Conv2D)            (None, 224, 224, 32)      896       \n",
      "_________________________________________________________________\n",
      "conv2d_10 (Conv2D)           (None, 222, 222, 32)      9248      \n",
      "_________________________________________________________________\n",
      "max_pooling2d_5 (MaxPooling2 (None, 111, 111, 32)      0         \n",
      "_________________________________________________________________\n",
      "dropout_7 (Dropout)          (None, 111, 111, 32)      0         \n",
      "_________________________________________________________________\n",
      "conv2d_11 (Conv2D)           (None, 111, 111, 64)      18496     \n",
      "_________________________________________________________________\n",
      "conv2d_12 (Conv2D)           (None, 109, 109, 64)      36928     \n",
      "_________________________________________________________________\n",
      "max_pooling2d_6 (MaxPooling2 (None, 54, 54, 64)        0         \n",
      "_________________________________________________________________\n",
      "dropout_8 (Dropout)          (None, 54, 54, 64)        0         \n",
      "_________________________________________________________________\n",
      "conv2d_13 (Conv2D)           (None, 54, 54, 64)        36928     \n",
      "_________________________________________________________________\n",
      "conv2d_14 (Conv2D)           (None, 52, 52, 64)        36928     \n",
      "_________________________________________________________________\n",
      "max_pooling2d_7 (MaxPooling2 (None, 26, 26, 64)        0         \n",
      "_________________________________________________________________\n",
      "dropout_9 (Dropout)          (None, 26, 26, 64)        0         \n",
      "_________________________________________________________________\n",
      "conv2d_15 (Conv2D)           (None, 26, 26, 128)       73856     \n",
      "_________________________________________________________________\n",
      "conv2d_16 (Conv2D)           (None, 24, 24, 128)       147584    \n",
      "_________________________________________________________________\n",
      "max_pooling2d_8 (MaxPooling2 (None, 12, 12, 128)       0         \n",
      "_________________________________________________________________\n",
      "dropout_10 (Dropout)         (None, 12, 12, 128)       0         \n",
      "_________________________________________________________________\n",
      "flatten_2 (Flatten)          (None, 18432)             0         \n",
      "_________________________________________________________________\n",
      "dense_4 (Dense)              (None, 512)               9437696   \n",
      "_________________________________________________________________\n",
      "dropout_11 (Dropout)         (None, 512)               0         \n",
      "_________________________________________________________________\n",
      "dense_5 (Dense)              (None, 4)                 2052      \n",
      "=================================================================\n",
      "Total params: 9,800,612\n",
      "Trainable params: 9,800,612\n",
      "Non-trainable params: 0\n",
      "_________________________________________________________________\n"
     ]
    }
   ],
   "source": [
    "# sgd = SGD(lr=0.1, decay=1e-6, momentum=0.9, nesterov=True)\n",
    "\n",
    "model1.compile(optimizer='rmsprop',loss='categorical_crossentropy',\n",
    "               metrics=['accuracy'])\n",
    "\n",
    "model1.summary()"
   ]
  },
  {
   "cell_type": "code",
   "execution_count": 27,
   "metadata": {},
   "outputs": [
    {
     "name": "stdout",
     "output_type": "stream",
     "text": [
      "Epoch 1/40\n",
      "74/74 [==============================] - 26s 349ms/step - loss: 1.5217 - acc: 0.3380 - val_loss: 1.3326 - val_acc: 0.4242\n",
      "Epoch 2/40\n",
      "74/74 [==============================] - 26s 350ms/step - loss: 1.3230 - acc: 0.4044 - val_loss: 1.3150 - val_acc: 0.3918\n",
      "Epoch 3/40\n",
      "74/74 [==============================] - 26s 349ms/step - loss: 1.2692 - acc: 0.4410 - val_loss: 1.2120 - val_acc: 0.4632\n",
      "Epoch 4/40\n",
      "74/74 [==============================] - 26s 348ms/step - loss: 1.2538 - acc: 0.4626 - val_loss: 1.1799 - val_acc: 0.4816\n",
      "Epoch 5/40\n",
      "74/74 [==============================] - 25s 332ms/step - loss: 1.1893 - acc: 0.4874 - val_loss: 1.1508 - val_acc: 0.5141\n",
      "Epoch 6/40\n",
      "74/74 [==============================] - 29s 390ms/step - loss: 1.1548 - acc: 0.5101 - val_loss: 1.2151 - val_acc: 0.4848\n",
      "Epoch 7/40\n",
      "74/74 [==============================] - 31s 415ms/step - loss: 1.1290 - acc: 0.5205 - val_loss: 1.2358 - val_acc: 0.4773\n",
      "Epoch 8/40\n",
      "74/74 [==============================] - 31s 418ms/step - loss: 1.1064 - acc: 0.5483 - val_loss: 1.0732 - val_acc: 0.5628\n",
      "Epoch 9/40\n",
      "74/74 [==============================] - 31s 413ms/step - loss: 1.0525 - acc: 0.5632 - val_loss: 1.0591 - val_acc: 0.5617\n",
      "Epoch 10/40\n",
      "74/74 [==============================] - 31s 419ms/step - loss: 1.0655 - acc: 0.5643 - val_loss: 1.0349 - val_acc: 0.5693\n",
      "Epoch 11/40\n",
      "74/74 [==============================] - 31s 416ms/step - loss: 1.0067 - acc: 0.5867 - val_loss: 1.0587 - val_acc: 0.5639\n",
      "Epoch 12/40\n",
      "74/74 [==============================] - 30s 412ms/step - loss: 0.9855 - acc: 0.6029 - val_loss: 1.0925 - val_acc: 0.5920\n",
      "Epoch 13/40\n",
      "74/74 [==============================] - 31s 416ms/step - loss: 0.9587 - acc: 0.6136 - val_loss: 1.0053 - val_acc: 0.5963\n",
      "Epoch 14/40\n",
      "74/74 [==============================] - 31s 414ms/step - loss: 0.9582 - acc: 0.6148 - val_loss: 0.9821 - val_acc: 0.6006\n",
      "Epoch 15/40\n",
      "74/74 [==============================] - 29s 396ms/step - loss: 0.9317 - acc: 0.6305 - val_loss: 1.0201 - val_acc: 0.5942\n",
      "Epoch 16/40\n",
      "74/74 [==============================] - 31s 415ms/step - loss: 0.9068 - acc: 0.6389 - val_loss: 1.0133 - val_acc: 0.5963\n",
      "Epoch 17/40\n",
      "74/74 [==============================] - 31s 413ms/step - loss: 0.8806 - acc: 0.6417 - val_loss: 0.9797 - val_acc: 0.5996\n",
      "Epoch 18/40\n",
      "74/74 [==============================] - 31s 415ms/step - loss: 0.8770 - acc: 0.6492 - val_loss: 1.0148 - val_acc: 0.5909\n",
      "Epoch 19/40\n",
      "74/74 [==============================] - 30s 412ms/step - loss: 0.8628 - acc: 0.6579 - val_loss: 0.9788 - val_acc: 0.6050\n",
      "Epoch 20/40\n",
      "74/74 [==============================] - 31s 413ms/step - loss: 0.8447 - acc: 0.6595 - val_loss: 0.9474 - val_acc: 0.6169\n",
      "Epoch 21/40\n",
      "74/74 [==============================] - 30s 411ms/step - loss: 0.8350 - acc: 0.6785 - val_loss: 0.9758 - val_acc: 0.6180\n",
      "Epoch 22/40\n",
      "74/74 [==============================] - 31s 414ms/step - loss: 0.8270 - acc: 0.6627 - val_loss: 0.9339 - val_acc: 0.6255\n",
      "Epoch 23/40\n",
      "74/74 [==============================] - 31s 417ms/step - loss: 0.8237 - acc: 0.6713 - val_loss: 0.9858 - val_acc: 0.6201\n",
      "Epoch 24/40\n",
      "74/74 [==============================] - 31s 415ms/step - loss: 0.7894 - acc: 0.6824 - val_loss: 0.8571 - val_acc: 0.6396\n",
      "Epoch 25/40\n",
      "74/74 [==============================] - 31s 413ms/step - loss: 0.7972 - acc: 0.6850 - val_loss: 0.8970 - val_acc: 0.6385\n",
      "Epoch 26/40\n",
      "74/74 [==============================] - 25s 345ms/step - loss: 0.7951 - acc: 0.6909 - val_loss: 0.9405 - val_acc: 0.6288\n",
      "Epoch 27/40\n",
      "74/74 [==============================] - 27s 362ms/step - loss: 0.7849 - acc: 0.6907 - val_loss: 0.8453 - val_acc: 0.6645\n",
      "Epoch 28/40\n",
      "74/74 [==============================] - 27s 364ms/step - loss: 0.7587 - acc: 0.6911 - val_loss: 0.8696 - val_acc: 0.6537\n",
      "Epoch 29/40\n",
      "74/74 [==============================] - 26s 356ms/step - loss: 0.7475 - acc: 0.6983 - val_loss: 0.9270 - val_acc: 0.6515\n",
      "Epoch 30/40\n",
      "74/74 [==============================] - 26s 345ms/step - loss: 0.7482 - acc: 0.7041 - val_loss: 0.8323 - val_acc: 0.6829\n",
      "Epoch 31/40\n",
      "74/74 [==============================] - 27s 359ms/step - loss: 0.7210 - acc: 0.7297 - val_loss: 0.9995 - val_acc: 0.6201\n",
      "Epoch 32/40\n",
      "74/74 [==============================] - 27s 358ms/step - loss: 0.7114 - acc: 0.7145 - val_loss: 0.9047 - val_acc: 0.6537\n",
      "Epoch 33/40\n",
      "74/74 [==============================] - 25s 344ms/step - loss: 0.7194 - acc: 0.7270 - val_loss: 1.0186 - val_acc: 0.6439\n",
      "Epoch 34/40\n",
      "74/74 [==============================] - 28s 377ms/step - loss: 0.7022 - acc: 0.7287 - val_loss: 0.8650 - val_acc: 0.6710\n",
      "Epoch 35/40\n",
      "74/74 [==============================] - 25s 340ms/step - loss: 0.7096 - acc: 0.7224 - val_loss: 0.9117 - val_acc: 0.6374\n",
      "Epoch 36/40\n",
      "74/74 [==============================] - 27s 358ms/step - loss: 0.6880 - acc: 0.7258 - val_loss: 0.8897 - val_acc: 0.6623\n",
      "Epoch 37/40\n",
      "74/74 [==============================] - 27s 360ms/step - loss: 0.6940 - acc: 0.7289 - val_loss: 0.9167 - val_acc: 0.6580\n",
      "Epoch 38/40\n",
      "74/74 [==============================] - 27s 360ms/step - loss: 0.6892 - acc: 0.7307 - val_loss: 1.1008 - val_acc: 0.6028\n",
      "Epoch 39/40\n",
      "74/74 [==============================] - 25s 340ms/step - loss: 0.6742 - acc: 0.7387 - val_loss: 0.8468 - val_acc: 0.6797\n",
      "Epoch 40/40\n",
      "74/74 [==============================] - 27s 360ms/step - loss: 0.6863 - acc: 0.7412 - val_loss: 0.8183 - val_acc: 0.6645\n"
     ]
    }
   ],
   "source": [
    "#fit With data Augumentation:\n",
    "trainedModel = model1.fit_generator(datagen.flow(train_data, train_labels_one_hot,\n",
    "           batch_size=batch_size),\n",
    "          epochs=epochs,\n",
    "          verbose=1,\n",
    "          validation_data=(test_data, test_labels_one_hot))"
   ]
  },
  {
   "cell_type": "code",
   "execution_count": 28,
   "metadata": {},
   "outputs": [],
   "source": [
    "#fit without data augmentation:\n",
    "# model1.fit(train_data, train_labels_one_hot,\n",
    "#            batch_size=batch_size,\n",
    "#           epochs=epochs,\n",
    "#           verbose=1,\n",
    "#           validation_data=(test_data, test_labels_one_hot))"
   ]
  },
  {
   "cell_type": "code",
   "execution_count": 29,
   "metadata": {},
   "outputs": [
    {
     "name": "stdout",
     "output_type": "stream",
     "text": [
      "924/924 [==============================] - 2s 2ms/step\n"
     ]
    },
    {
     "data": {
      "text/plain": [
       "[0.8182583069388485, 0.6645021645021645]"
      ]
     },
     "execution_count": 29,
     "metadata": {},
     "output_type": "execute_result"
    }
   ],
   "source": [
    "model1.evaluate(test_data, test_labels_one_hot)"
   ]
  },
  {
   "cell_type": "code",
   "execution_count": 30,
   "metadata": {},
   "outputs": [
    {
     "data": {
      "text/plain": [
       "Text(0.5,1,'Loss Curves')"
      ]
     },
     "execution_count": 30,
     "metadata": {},
     "output_type": "execute_result"
    },
    {
     "data": {
      "image/png": "[encoded data removed]",
      "text/plain": [
       "<Figure size 576x432 with 1 Axes>"
      ]
     },
     "metadata": {},
     "output_type": "display_data"
    }
   ],
   "source": [
    "#Training Loss and Validation Loss\n",
    "plt.figure(figsize=[8,6])\n",
    "plt.plot(trainedModel.history['loss'],'r',linewidth=3.0)\n",
    "plt.plot(trainedModel.history['val_loss'],'b',linewidth=3.0)\n",
    "plt.legend(['Training loss', 'Validation Loss'],fontsize=18)\n",
    "plt.xlabel('Epochs ',fontsize=16)\n",
    "plt.ylabel('Loss',fontsize=16)\n",
    "plt.title('Loss Curves',fontsize=16)"
   ]
  },
  {
   "cell_type": "code",
   "execution_count": 31,
   "metadata": {},
   "outputs": [
    {
     "data": {
      "text/plain": [
       "Text(0.5,1,'Accuracy Curves')"
      ]
     },
     "execution_count": 31,
     "metadata": {},
     "output_type": "execute_result"
    },
    {
     "data": {
      "image/png": "[encoded data removed]",
      "text/plain": [
       "<Figure size 576x432 with 1 Axes>"
      ]
     },
     "metadata": {},
     "output_type": "display_data"
    }
   ],
   "source": [
    "#Training Accuracy and Validation Accuracy\n",
    "plt.figure(figsize=[8,6])\n",
    "plt.plot(trainedModel.history['acc'],'r',linewidth=3.0)\n",
    "plt.plot(trainedModel.history['val_acc'],'b',linewidth=3.0)\n",
    "plt.legend(['Training Accuracy', 'Validation Accuracy'],fontsize=18)\n",
    "plt.xlabel('Epochs ',fontsize=16)\n",
    "plt.ylabel('Accuracy',fontsize=16)\n",
    "plt.title('Accuracy Curves',fontsize=16)"
   ]
  },
  {
   "cell_type": "code",
   "execution_count": 32,
   "metadata": {},
   "outputs": [
    {
     "data": {
      "text/plain": [
       "(1, 224, 224, 3)"
      ]
     },
     "execution_count": 32,
     "metadata": {},
     "output_type": "execute_result"
    }
   ],
   "source": [
    "#Testing the mdoel (prediction)\n",
    "# test = [] \n",
    "# test_file = '/home/dl1/fashionCNN/21601_khakikhaki_1.jpg'\n",
    "# testImage = Image.open(img).convert('RGB')\n",
    "# testImage = testImage.resize((224,224))\n",
    "# testImage = np.array(testImage)\n",
    "# test.append(testImage)\n",
    "# test_in = np.asarray(test)\n",
    "# test_in.astype('float32')\n",
    "# test_in/255\n",
    "# test_in.shape\n",
    "\n",
    "image = Image.open('/home/dl1/fashionCNN/TestData/1. 83907-232839-large.jpg')\n",
    "new_image = image.resize((224,224))\n",
    "new_image.save('/home/dl1/fashionCNN/1. 83907-232839-large.jpg')\n",
    "\n",
    "\n",
    "\n",
    "test_file = '/home/dl1/fashionCNN/1. 83907-232839-large.jpg'\n",
    "test_img = cv2.imread(test_file)\n",
    "test=np.asarray(test_img)\n",
    "\n",
    "\n",
    "test_img.astype('float32')\n",
    "test_img/255\n",
    "test_img=np.expand_dims(test_img,axis=0)\n",
    "test_img.shape"
   ]
  },
  {
   "cell_type": "code",
   "execution_count": 39,
   "metadata": {},
   "outputs": [
    {
     "data": {
      "text/plain": [
       "array([0., 0., 0., 1.], dtype=float32)"
      ]
     },
     "execution_count": 39,
     "metadata": {},
     "output_type": "execute_result"
    }
   ],
   "source": [
    "pred1 = model1.predict(test_img)\n",
    "# pred = model1.predict_classes(test_img)\n",
    "# pred.ravel()\n",
    "pred1.ravel()"
   ]
  },
  {
   "cell_type": "code",
   "execution_count": 21,
   "metadata": {},
   "outputs": [],
   "source": [
    "#save model\n",
    "model1.save('/home/dl1/fashionCNN/savedModel/basicModel3')"
   ]
  },
  {
   "cell_type": "code",
   "execution_count": 34,
   "metadata": {},
   "outputs": [],
   "source": [
    "#load model\n",
    "loaded_model = load_model('/home/dl1/fashionCNN/savedModel/basicModel1')"
   ]
  },
  {
   "cell_type": "code",
   "execution_count": 40,
   "metadata": {},
   "outputs": [
    {
     "data": {
      "text/plain": [
       "array([0.000000e+00, 6.336383e-33, 0.000000e+00, 1.000000e+00],\n",
       "      dtype=float32)"
      ]
     },
     "execution_count": 40,
     "metadata": {},
     "output_type": "execute_result"
    }
   ],
   "source": [
    "# pred = loaded_model.predict_classes(test_img)\n",
    "pred = loaded_model.predict(test_img)\n",
    "pred.ravel()"
   ]
  },
  {
   "cell_type": "code",
   "execution_count": null,
   "metadata": {},
   "outputs": [],
   "source": []
  }
 ],
 "metadata": {
  "kernelspec": {
   "display_name": "Python 3",
   "language": "python",
   "name": "python3"
  },
  "language_info": {
   "codemirror_mode": {
    "name": "ipython",
    "version": 3
   },
   "file_extension": ".py",
   "mimetype": "text/x-python",
   "name": "python",
   "nbconvert_exporter": "python",
   "pygments_lexer": "ipython3",
   "version": "3.6.4"
  }
 },
 "nbformat": 4,
 "nbformat_minor": 2
}
