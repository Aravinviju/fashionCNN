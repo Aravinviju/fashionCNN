{
 "cells": [
  {
   "cell_type": "code",
   "execution_count": 1,
   "metadata": {},
   "outputs": [
    {
     "name": "stderr",
     "output_type": "stream",
     "text": [
      "/home/dl1/anaconda3/lib/python3.6/site-packages/h5py/__init__.py:36: FutureWarning: Conversion of the second argument of issubdtype from `float` to `np.floating` is deprecated. In future, it will be treated as `np.float64 == np.dtype(float).type`.\n",
      "  from ._conv import register_converters as _register_converters\n"
     ]
    }
   ],
   "source": [
    "import os\n",
    "import tensorflow as tf\n",
    "# config = tf.ConfigProto(allow_soft_placement=True)\n",
    "# config.gpu_options.allocator_type = 'BFC'\n",
    "# config.gpu_options.per_process_gpu_memory_fraction = 0.40"
   ]
  },
  {
   "cell_type": "code",
   "execution_count": 2,
   "metadata": {},
   "outputs": [],
   "source": [
    "# !pip install tensorflow-gpu==1.5.0\n",
    "# from keras.optimizers import SGD"
   ]
  },
  {
   "cell_type": "code",
   "execution_count": 3,
   "metadata": {},
   "outputs": [],
   "source": [
    "# gpu_options = tf.GPUOptions(allow_growth=True)\n",
    "# session = tf.InteractiveSession(config=tf.ConfigProto(gpu_options=gpu_options))\n",
    "\n",
    "os.environ[\"CUDA_DEVICE_ORDER\"]=\"PCI_BUS_ID\"   \n",
    "os.environ[\"CUDA_VISIBLE_DEVICES\"]=\"1,2,3\"\n",
    "\n",
    "# from tensorflow.python.client import device_lib\n",
    "# print (device_lib.list_local_devices())"
   ]
  },
  {
   "cell_type": "code",
   "execution_count": 4,
   "metadata": {},
   "outputs": [
    {
     "name": "stderr",
     "output_type": "stream",
     "text": [
      "Using TensorFlow backend.\n"
     ]
    }
   ],
   "source": [
    "# -*- coding: utf-8 -*-\n",
    "\"\"\"\n",
    "@author: Aravindhan Poopathy\n",
    "\"\"\"\n",
    "\n",
    "from __future__ import print_function\n",
    "import numpy as np\n",
    "import matplotlib.pyplot as plt\n",
    "%matplotlib inline\n",
    "import keras\n",
    "from keras.models import Sequential\n",
    "from keras.layers import Dense, Conv2D, MaxPooling2D, Dropout, Flatten\n",
    "import glob\n",
    "from PIL import Image\n",
    "import cv2\n",
    "from keras.utils import to_categorical\n",
    "import matplotlib.image as mpimg\n",
    "import random\n",
    "from sklearn.model_selection import train_test_split\n",
    "from keras.preprocessing.image import ImageDataGenerator"
   ]
  },
  {
   "cell_type": "code",
   "execution_count": 5,
   "metadata": {},
   "outputs": [],
   "source": [
    "#reading the files from the input directories:\n",
    "\n",
    "input_dir_coats    = '/home/dl1/fashionCNN/deepfashion/coats&jackets/'\n",
    "input_dir_sweaters = '/home/dl1/fashionCNN/deepfashion/sweaters/'\n",
    "input_dir_teescasuals = '/home/dl1/fashionCNN/deepfashion/tees&casuals/'\n",
    "input_dir_shirts   ='/home/dl1/fashionCNN/deepfashion/shirt/'\n"
   ]
  },
  {
   "cell_type": "code",
   "execution_count": 5,
   "metadata": {},
   "outputs": [],
   "source": [
    "# os.listdir(input_dir_coats)"
   ]
  },
  {
   "cell_type": "code",
   "execution_count": 6,
   "metadata": {},
   "outputs": [
    {
     "name": "stdout",
     "output_type": "stream",
     "text": [
      "1310\n",
      "1090\n",
      "762\n",
      "1457\n"
     ]
    }
   ],
   "source": [
    "#file path creation and labelling\n",
    "\n",
    "path_list = []\n",
    "\n",
    "for i,filec in enumerate(os.listdir(input_dir_coats)):\n",
    "    path_list.append(os.path.join(input_dir_coats, filec))\n",
    "i+=1\n",
    "coatslabel = [0] * i\n",
    "\n",
    "print(len(coatslabel))\n",
    "\n",
    "for i,files in enumerate(os.listdir(input_dir_sweaters)):\n",
    "    path_list.append(os.path.join(input_dir_sweaters, files))\n",
    "i+=1\n",
    "sweaterlabel = [1] * i\n",
    "\n",
    "print(len(sweaterlabel))\n",
    "\n",
    "\n",
    "for i,filet in enumerate(os.listdir(input_dir_teescasuals)):\n",
    "    path_list.append(os.path.join(input_dir_teescasuals, filet))\n",
    "i+=1\n",
    "teeslabel = [2] * i\n",
    "\n",
    "print(len(teeslabel))\n",
    "\n",
    "for i,filesh in enumerate(os.listdir(input_dir_shirts)):\n",
    "    path_list.append(os.path.join(input_dir_shirts, filesh))\n",
    "i+=1\n",
    "shirtlabel = [3] * i\n",
    "\n",
    "print(len(shirtlabel))\n"
   ]
  },
  {
   "cell_type": "code",
   "execution_count": 7,
   "metadata": {},
   "outputs": [
    {
     "data": {
      "text/plain": [
       "4619"
      ]
     },
     "execution_count": 7,
     "metadata": {},
     "output_type": "execute_result"
    }
   ],
   "source": [
    "#input label\n",
    "input_labels = labels = coatslabel + sweaterlabel + teeslabel  + shirtlabel\n",
    "# input_labels\n",
    "labarr=np.asarray(labels)\n",
    "len(labarr)"
   ]
  },
  {
   "cell_type": "code",
   "execution_count": 8,
   "metadata": {},
   "outputs": [],
   "source": [
    "# ima = cv2.imread(\"/home/dl1/fashionCNN/deepfashion/coats&jackets/1.jpg\")\n",
    "# print(type(ima))\n",
    "# # cv2.imshow('image',ima)\n",
    "# # cv2.waitKey(0)\n",
    "# # cv2.destroyAllWindows()"
   ]
  },
  {
   "cell_type": "code",
   "execution_count": 8,
   "metadata": {},
   "outputs": [
    {
     "data": {
      "text/plain": [
       "list"
      ]
     },
     "execution_count": 8,
     "metadata": {},
     "output_type": "execute_result"
    }
   ],
   "source": [
    "#reading the input data and resizing it as the data scrapped from different websites will in different sizes\n",
    "\n",
    "# input_data = [cv2.imread(x) for x in path_list]\n",
    "\n",
    "input_data = []\n",
    "\n",
    "for img in path_list:\n",
    "    image = Image.open(img).convert('RGB')\n",
    "#     sqrWidth = np.ceil(np.sqrt(image.size[0]*image.size[1])).astype(int)\n",
    "#     new_image = image.resize((sqrWidth,sqrWidth))\n",
    "    new_image = image.resize((224,224))\n",
    "#converting it to numpy array as Image List type cannot be converted to an array    \n",
    "    final_image = np.array(new_image)\n",
    "    input_data.append(final_image)\n",
    "\n",
    "type(input_data)"
   ]
  },
  {
   "cell_type": "code",
   "execution_count": 9,
   "metadata": {},
   "outputs": [
    {
     "data": {
      "text/plain": [
       "(4619, 224, 224, 3)"
      ]
     },
     "execution_count": 9,
     "metadata": {},
     "output_type": "execute_result"
    }
   ],
   "source": [
    "in_data=np.asarray(input_data)\n",
    "in_data.shape"
   ]
  },
  {
   "cell_type": "code",
   "execution_count": 10,
   "metadata": {},
   "outputs": [],
   "source": [
    "#shufflig the data and the label equally for eleminating overfitting\n",
    "\n",
    "arr = np.arange(len(labarr))\n",
    "np.random.shuffle(arr)\n",
    "data = in_data[arr]\n",
    "labarr = labarr[arr]\n"
   ]
  },
  {
   "cell_type": "code",
   "execution_count": 11,
   "metadata": {},
   "outputs": [
    {
     "name": "stdout",
     "output_type": "stream",
     "text": [
      "(3695, 224, 224, 3)\n",
      "(924, 224, 224, 3)\n"
     ]
    }
   ],
   "source": [
    "#Train and Test split\n",
    "\n",
    "X_train, X_test, label_train, label_test = train_test_split(data, labarr, test_size=0.2)\n",
    "\n",
    "print(X_train.shape)\n",
    "print(X_test.shape)"
   ]
  },
  {
   "cell_type": "code",
   "execution_count": 12,
   "metadata": {},
   "outputs": [
    {
     "name": "stdout",
     "output_type": "stream",
     "text": [
      "Output classes :  [0 1 2 3]\n",
      "Total number of outputs :  4\n"
     ]
    }
   ],
   "source": [
    "# Find the unique numbers from the train labels\n",
    "classes = np.unique(label_train)\n",
    "nClasses = len(classes)\n",
    "print('Output classes : ', classes)\n",
    "print('Total number of outputs : ', nClasses)"
   ]
  },
  {
   "cell_type": "code",
   "execution_count": 13,
   "metadata": {},
   "outputs": [
    {
     "name": "stdout",
     "output_type": "stream",
     "text": [
      "Training data shape :  (3695, 224, 224, 3) (3695,)\n",
      "Testing data shape :  (924, 224, 224, 3) (924,)\n"
     ]
    }
   ],
   "source": [
    "# Find the shape of input images and create the variable input_shape\n",
    "nRows,nCols,nDims = X_train.shape[1:]\n",
    "train_data = X_train.reshape(X_train.shape[0], nRows, nCols, nDims)\n",
    "test_data = X_test.reshape(X_test.shape[0], nRows, nCols, nDims)\n",
    "print('Training data shape : ', X_train.shape, label_train.shape)\n",
    "\n",
    "print('Testing data shape : ', X_test.shape, label_test.shape)\n",
    "input_shape = (nRows, nCols, nDims)"
   ]
  },
  {
   "cell_type": "code",
   "execution_count": 14,
   "metadata": {},
   "outputs": [],
   "source": [
    "# Change to float datatype\n",
    "train_data = train_data.astype('float32')\n",
    "test_data = test_data.astype('float32')\n",
    "\n",
    "# Scale the data to lie between 0 to 1\n",
    "train_data /= 255\n",
    "test_data /= 255\n",
    "\n",
    "# Change the labels from integer to categorical data\n",
    "train_labels_one_hot = to_categorical(label_train,nClasses)\n",
    "test_labels_one_hot = to_categorical(label_test,nClasses)"
   ]
  },
  {
   "cell_type": "code",
   "execution_count": 15,
   "metadata": {},
   "outputs": [
    {
     "name": "stdout",
     "output_type": "stream",
     "text": [
      "Original label 0 :  1\n",
      "After conversion to categorical ( one-hot ) :  [0. 1. 0. 0.]\n"
     ]
    }
   ],
   "source": [
    "# Display the change for category label using one-hot encoding\n",
    "print('Original label 0 : ', label_train[0])\n",
    "print('After conversion to categorical ( one-hot ) : ', train_labels_one_hot[0])"
   ]
  },
  {
   "cell_type": "code",
   "execution_count": 16,
   "metadata": {},
   "outputs": [],
   "source": [
    "#Model creation:\n",
    "\n",
    "#General Model\n",
    "\n",
    "def createModel():\n",
    "    model = Sequential()\n",
    "    # The first two layers with 32 filters of window size 3x3\n",
    "    model.add(Conv2D(32, (3, 3), padding='same', activation='relu', input_shape=input_shape))\n",
    "    model.add(Conv2D(32, (3, 3), activation='relu'))\n",
    "    model.add(MaxPooling2D(pool_size=(2, 2)))\n",
    "    model.add(Dropout(0.25))\n",
    "\n",
    "    model.add(Conv2D(64, (3, 3), padding='same', activation='relu'))\n",
    "    model.add(Conv2D(64, (3, 3), activation='relu'))\n",
    "    model.add(MaxPooling2D(pool_size=(2, 2)))\n",
    "    model.add(Dropout(0.25))\n",
    "\n",
    "    model.add(Conv2D(64, (3, 3), padding='same', activation='relu'))\n",
    "    model.add(Conv2D(64, (3, 3), activation='relu'))\n",
    "    model.add(MaxPooling2D(pool_size=(2, 2)))\n",
    "    model.add(Dropout(0.25))\n",
    "\n",
    "    model.add(Flatten())\n",
    "    model.add(Dense(512, activation='relu'))\n",
    "    model.add(Dropout(0.5))\n",
    "    model.add(Dense(nClasses, activation='softmax'))\n",
    "\n",
    "    return model\n",
    "\n",
    "model1 = createModel()\n",
    "batch_size = 100\n",
    "epochs = 100"
   ]
  },
  {
   "cell_type": "code",
   "execution_count": 63,
   "metadata": {},
   "outputs": [],
   "source": [
    "# VGG - 16 :\n",
    "\n",
    "# def VGG_16(weights_path=None):\n",
    "#     with tf.device('/device:GPU:3'):\n",
    "        \n",
    "#         model = Sequential()\n",
    "                \n",
    "# #         if weights_path:\n",
    "# #             model.load_weights(weights_path)\n",
    "\n",
    "#         model.add(Conv2D(64, (3, 3),padding='same', activation='relu', input_shape=input_shape))\n",
    "\n",
    "#         model.add(Conv2D(64, (3, 3), padding='same', activation='relu'))\n",
    "#         model.add(MaxPooling2D((2,2), strides=(2,2)))\n",
    "\n",
    "\n",
    "#         model.add(Conv2D(128, (3, 3),padding='same', activation='relu'))\n",
    "\n",
    "#         model.add(Conv2D(128, (3, 3),padding='same', activation='relu'))\n",
    "#         model.add(MaxPooling2D((2,2), strides=(2,2)))\n",
    "\n",
    "\n",
    "#         model.add(Conv2D(256, (3, 3),padding='same', activation='relu'))\n",
    "\n",
    "#         model.add(Conv2D(256, (3, 3),padding='same', activation='relu'))\n",
    "\n",
    "#         model.add(Conv2D(256, (3, 3),padding='same', activation='relu'))\n",
    "#         model.add(MaxPooling2D((2,2), strides=(2,2)))\n",
    "\n",
    "\n",
    "#         model.add(Conv2D(512, (3, 3),padding='same', activation='relu'))\n",
    "\n",
    "#         model.add(Conv2D(512, (3, 3),padding='same', activation='relu'))\n",
    "\n",
    "#         model.add(Conv2D(512, (3, 3),padding='same', activation='relu'))\n",
    "#         model.add(MaxPooling2D((2,2), strides=(2,2)))\n",
    "\n",
    "\n",
    "# #         model.add(Conv2D(512, (3, 3),padding='same', activation='relu'))\n",
    "\n",
    "# #         model.add(Conv2D(512, (3, 3),padding='same', activation='relu'))\n",
    "\n",
    "# #         model.add(Conv2D(512, (3, 3),padding='same', activation='relu'))\n",
    "# #         model.add(MaxPooling2D((2,2), strides=(2,2)))\n",
    "\n",
    "#         model.add(Flatten())\n",
    "#         model.add(Dense(512, activation='relu'))\n",
    "#         model.add(Dropout(0.5))\n",
    "#         model.add(Dense(512, activation='relu'))\n",
    "#         model.add(Dropout(0.5))\n",
    "#         model.add(Dense(nClasses, activation='softmax'))\n",
    "\n",
    "#         return model\n",
    "\n",
    "# # model1 = VGG_16('/home/dl1/fashionCNN/vgg16_weights.h5')\n",
    "# model1 = VGG_16()\n",
    "# batch_size = 100\n",
    "# epochs = 70"
   ]
  },
  {
   "cell_type": "code",
   "execution_count": 17,
   "metadata": {},
   "outputs": [],
   "source": [
    "# #Data Augumentation\n",
    "datagen = ImageDataGenerator(horizontal_flip=True,\n",
    "          rotation_range=10.0,\n",
    "          zoom_range = 0.2,  \n",
    "           fill_mode = \"nearest\")"
   ]
  },
  {
   "cell_type": "code",
   "execution_count": 18,
   "metadata": {},
   "outputs": [],
   "source": [
    "# sgd = SGD(lr=0.1, decay=1e-6, momentum=0.9, nesterov=True)\n",
    "\n",
    "model1.compile(loss='categorical_crossentropy',\n",
    "              optimizer='adam',\n",
    "              metrics=['accuracy'])"
   ]
  },
  {
   "cell_type": "code",
   "execution_count": 19,
   "metadata": {},
   "outputs": [
    {
     "name": "stdout",
     "output_type": "stream",
     "text": [
      "Epoch 1/70\n",
      "37/37 [==============================] - 28s 758ms/step - loss: 1.5184 - acc: 0.3568 - val_loss: 1.3156 - val_acc: 0.4123\n",
      "Epoch 2/70\n",
      "37/37 [==============================] - 24s 661ms/step - loss: 1.2684 - acc: 0.4362 - val_loss: 1.2763 - val_acc: 0.4394\n",
      "Epoch 3/70\n",
      "37/37 [==============================] - 26s 700ms/step - loss: 1.2523 - acc: 0.4427 - val_loss: 1.2359 - val_acc: 0.4405\n",
      "Epoch 4/70\n",
      "37/37 [==============================] - 26s 702ms/step - loss: 1.2248 - acc: 0.4457 - val_loss: 1.2758 - val_acc: 0.4264\n",
      "Epoch 5/70\n",
      "37/37 [==============================] - 26s 701ms/step - loss: 1.1961 - acc: 0.4612 - val_loss: 1.1934 - val_acc: 0.4697\n",
      "Epoch 6/70\n",
      "37/37 [==============================] - 25s 665ms/step - loss: 1.1808 - acc: 0.4822 - val_loss: 1.1502 - val_acc: 0.4870\n",
      "Epoch 7/70\n",
      "37/37 [==============================] - 26s 703ms/step - loss: 1.1765 - acc: 0.5002 - val_loss: 1.1715 - val_acc: 0.4935\n",
      "Epoch 8/70\n",
      "37/37 [==============================] - 26s 702ms/step - loss: 1.1383 - acc: 0.5209 - val_loss: 1.1451 - val_acc: 0.4946\n",
      "Epoch 9/70\n",
      "37/37 [==============================] - 26s 713ms/step - loss: 1.1146 - acc: 0.5275 - val_loss: 1.0836 - val_acc: 0.5292\n",
      "Epoch 10/70\n",
      "37/37 [==============================] - 26s 695ms/step - loss: 1.0935 - acc: 0.5431 - val_loss: 1.1350 - val_acc: 0.5195\n",
      "Epoch 11/70\n",
      "37/37 [==============================] - 25s 669ms/step - loss: 1.0902 - acc: 0.5570 - val_loss: 1.2091 - val_acc: 0.4697\n",
      "Epoch 12/70\n",
      "37/37 [==============================] - 26s 704ms/step - loss: 1.0674 - acc: 0.5548 - val_loss: 1.0849 - val_acc: 0.5530\n",
      "Epoch 13/70\n",
      "37/37 [==============================] - 26s 704ms/step - loss: 1.0366 - acc: 0.5730 - val_loss: 1.1051 - val_acc: 0.5444\n",
      "Epoch 14/70\n",
      "37/37 [==============================] - 26s 707ms/step - loss: 1.0300 - acc: 0.5697 - val_loss: 1.0588 - val_acc: 0.5844\n",
      "Epoch 15/70\n",
      "37/37 [==============================] - 25s 668ms/step - loss: 1.0135 - acc: 0.5894 - val_loss: 1.0406 - val_acc: 0.5660\n",
      "Epoch 16/70\n",
      "37/37 [==============================] - 26s 704ms/step - loss: 0.9800 - acc: 0.5897 - val_loss: 1.0074 - val_acc: 0.5736\n",
      "Epoch 17/70\n",
      "37/37 [==============================] - 26s 703ms/step - loss: 0.9677 - acc: 0.6011 - val_loss: 1.0041 - val_acc: 0.5714\n",
      "Epoch 18/70\n",
      "37/37 [==============================] - 26s 705ms/step - loss: 0.9597 - acc: 0.6142 - val_loss: 1.0019 - val_acc: 0.5747\n",
      "Epoch 19/70\n",
      "37/37 [==============================] - 25s 667ms/step - loss: 0.9394 - acc: 0.6166 - val_loss: 0.9727 - val_acc: 0.5963\n",
      "Epoch 20/70\n",
      "37/37 [==============================] - 25s 666ms/step - loss: 0.9324 - acc: 0.6179 - val_loss: 0.9651 - val_acc: 0.5952\n",
      "Epoch 21/70\n",
      "37/37 [==============================] - 24s 653ms/step - loss: 0.9162 - acc: 0.6336 - val_loss: 1.0313 - val_acc: 0.5801\n",
      "Epoch 22/70\n",
      "37/37 [==============================] - 24s 660ms/step - loss: 0.9117 - acc: 0.6404 - val_loss: 0.9814 - val_acc: 0.5974\n",
      "Epoch 23/70\n",
      "37/37 [==============================] - 25s 664ms/step - loss: 0.8705 - acc: 0.6555 - val_loss: 1.0176 - val_acc: 0.5942\n",
      "Epoch 24/70\n",
      "37/37 [==============================] - 30s 808ms/step - loss: 0.8566 - acc: 0.6579 - val_loss: 0.9697 - val_acc: 0.6093\n",
      "Epoch 25/70\n",
      "37/37 [==============================] - 26s 695ms/step - loss: 0.8518 - acc: 0.6523 - val_loss: 0.9689 - val_acc: 0.5942\n",
      "Epoch 26/70\n",
      "37/37 [==============================] - 26s 693ms/step - loss: 0.8380 - acc: 0.6654 - val_loss: 0.9770 - val_acc: 0.6039\n",
      "Epoch 27/70\n",
      "37/37 [==============================] - 24s 657ms/step - loss: 0.8267 - acc: 0.6698 - val_loss: 0.9211 - val_acc: 0.6310\n",
      "Epoch 28/70\n",
      "37/37 [==============================] - 26s 693ms/step - loss: 0.8120 - acc: 0.6789 - val_loss: 0.9340 - val_acc: 0.6158\n",
      "Epoch 29/70\n",
      "37/37 [==============================] - 26s 694ms/step - loss: 0.8035 - acc: 0.6794 - val_loss: 0.9242 - val_acc: 0.6234\n",
      "Epoch 30/70\n",
      "37/37 [==============================] - 26s 693ms/step - loss: 0.7861 - acc: 0.6793 - val_loss: 0.9025 - val_acc: 0.6299\n",
      "Epoch 31/70\n",
      "37/37 [==============================] - 24s 656ms/step - loss: 0.7547 - acc: 0.6967 - val_loss: 0.9406 - val_acc: 0.6342\n",
      "Epoch 32/70\n",
      "37/37 [==============================] - 26s 694ms/step - loss: 0.7492 - acc: 0.6974 - val_loss: 0.9095 - val_acc: 0.6353\n",
      "Epoch 33/70\n",
      "37/37 [==============================] - 26s 690ms/step - loss: 0.7257 - acc: 0.7134 - val_loss: 0.8915 - val_acc: 0.6494\n",
      "Epoch 34/70\n",
      "37/37 [==============================] - 26s 694ms/step - loss: 0.7053 - acc: 0.7237 - val_loss: 1.0268 - val_acc: 0.6093\n",
      "Epoch 35/70\n",
      "37/37 [==============================] - 26s 690ms/step - loss: 0.7016 - acc: 0.7281 - val_loss: 0.9315 - val_acc: 0.6277\n",
      "Epoch 36/70\n",
      "37/37 [==============================] - 24s 656ms/step - loss: 0.6930 - acc: 0.7193 - val_loss: 0.9837 - val_acc: 0.6439\n",
      "Epoch 37/70\n",
      "37/37 [==============================] - 26s 690ms/step - loss: 0.6905 - acc: 0.7233 - val_loss: 0.9682 - val_acc: 0.6418\n",
      "Epoch 38/70\n",
      "37/37 [==============================] - 24s 656ms/step - loss: 0.6720 - acc: 0.7310 - val_loss: 0.9280 - val_acc: 0.6429\n",
      "Epoch 39/70\n",
      "37/37 [==============================] - 27s 729ms/step - loss: 0.6499 - acc: 0.7385 - val_loss: 0.9246 - val_acc: 0.6504\n",
      "Epoch 40/70\n",
      "37/37 [==============================] - 24s 657ms/step - loss: 0.6484 - acc: 0.7460 - val_loss: 0.9177 - val_acc: 0.6569\n",
      "Epoch 41/70\n",
      "37/37 [==============================] - 26s 697ms/step - loss: 0.6597 - acc: 0.7369 - val_loss: 0.9728 - val_acc: 0.6526\n",
      "Epoch 42/70\n",
      "37/37 [==============================] - 26s 697ms/step - loss: 0.6251 - acc: 0.7531 - val_loss: 0.9174 - val_acc: 0.6504\n",
      "Epoch 43/70\n",
      "37/37 [==============================] - 26s 696ms/step - loss: 0.6500 - acc: 0.7508 - val_loss: 0.9625 - val_acc: 0.6494\n",
      "Epoch 44/70\n",
      "37/37 [==============================] - 25s 663ms/step - loss: 0.6174 - acc: 0.7559 - val_loss: 0.9125 - val_acc: 0.6634\n",
      "Epoch 45/70\n",
      "37/37 [==============================] - 26s 705ms/step - loss: 0.5949 - acc: 0.7683 - val_loss: 0.9772 - val_acc: 0.6548\n",
      "Epoch 46/70\n",
      "37/37 [==============================] - 26s 703ms/step - loss: 0.5932 - acc: 0.7674 - val_loss: 0.9144 - val_acc: 0.6591\n",
      "Epoch 47/70\n",
      "37/37 [==============================] - 26s 710ms/step - loss: 0.5597 - acc: 0.7764 - val_loss: 0.9779 - val_acc: 0.6494\n",
      "Epoch 48/70\n",
      "37/37 [==============================] - 25s 670ms/step - loss: 0.5472 - acc: 0.7871 - val_loss: 0.9855 - val_acc: 0.6515\n",
      "Epoch 49/70\n",
      "37/37 [==============================] - 26s 705ms/step - loss: 0.5686 - acc: 0.7805 - val_loss: 0.9319 - val_acc: 0.6591\n",
      "Epoch 50/70\n",
      "37/37 [==============================] - 26s 704ms/step - loss: 0.5447 - acc: 0.7881 - val_loss: 0.9369 - val_acc: 0.6558\n",
      "Epoch 51/70\n",
      "37/37 [==============================] - 26s 703ms/step - loss: 0.5491 - acc: 0.7829 - val_loss: 0.9514 - val_acc: 0.6569\n",
      "Epoch 52/70\n",
      "37/37 [==============================] - 25s 668ms/step - loss: 0.5141 - acc: 0.8015 - val_loss: 0.9627 - val_acc: 0.6818\n",
      "Epoch 53/70\n",
      "37/37 [==============================] - 26s 704ms/step - loss: 0.5175 - acc: 0.7903 - val_loss: 0.9425 - val_acc: 0.6699\n",
      "Epoch 54/70\n",
      "37/37 [==============================] - 26s 705ms/step - loss: 0.5097 - acc: 0.8033 - val_loss: 0.9940 - val_acc: 0.6645\n",
      "Epoch 55/70\n",
      "37/37 [==============================] - 26s 705ms/step - loss: 0.5309 - acc: 0.7860 - val_loss: 0.9222 - val_acc: 0.6645\n",
      "Epoch 56/70\n",
      "37/37 [==============================] - 26s 705ms/step - loss: 0.4927 - acc: 0.8035 - val_loss: 0.9562 - val_acc: 0.6688\n",
      "Epoch 57/70\n",
      "37/37 [==============================] - 25s 664ms/step - loss: 0.4927 - acc: 0.8059 - val_loss: 0.9682 - val_acc: 0.6786\n",
      "Epoch 58/70\n",
      "37/37 [==============================] - 26s 702ms/step - loss: 0.4931 - acc: 0.8002 - val_loss: 0.9824 - val_acc: 0.6699\n",
      "Epoch 59/70\n",
      "37/37 [==============================] - 26s 703ms/step - loss: 0.4933 - acc: 0.8113 - val_loss: 0.9939 - val_acc: 0.6634\n",
      "Epoch 60/70\n",
      "37/37 [==============================] - 26s 699ms/step - loss: 0.4846 - acc: 0.8122 - val_loss: 0.9544 - val_acc: 0.6656\n",
      "Epoch 61/70\n",
      "37/37 [==============================] - 25s 668ms/step - loss: 0.4638 - acc: 0.8152 - val_loss: 0.9454 - val_acc: 0.6721\n",
      "Epoch 62/70\n"
     ]
    },
    {
     "name": "stdout",
     "output_type": "stream",
     "text": [
      "37/37 [==============================] - 26s 702ms/step - loss: 0.4622 - acc: 0.8187 - val_loss: 1.0113 - val_acc: 0.6688\n",
      "Epoch 63/70\n",
      "37/37 [==============================] - 26s 707ms/step - loss: 0.4584 - acc: 0.8241 - val_loss: 0.9593 - val_acc: 0.6645\n",
      "Epoch 64/70\n",
      "37/37 [==============================] - 26s 703ms/step - loss: 0.4381 - acc: 0.8232 - val_loss: 0.9501 - val_acc: 0.6623\n",
      "Epoch 65/70\n",
      "37/37 [==============================] - 25s 668ms/step - loss: 0.4048 - acc: 0.8436 - val_loss: 1.0299 - val_acc: 0.6677\n",
      "Epoch 66/70\n",
      "37/37 [==============================] - 26s 703ms/step - loss: 0.4326 - acc: 0.8264 - val_loss: 0.9735 - val_acc: 0.6667\n",
      "Epoch 67/70\n",
      "37/37 [==============================] - 26s 700ms/step - loss: 0.4109 - acc: 0.8363 - val_loss: 0.9975 - val_acc: 0.6851\n",
      "Epoch 68/70\n",
      "37/37 [==============================] - 25s 688ms/step - loss: 0.4571 - acc: 0.8216 - val_loss: 1.0062 - val_acc: 0.6569\n",
      "Epoch 69/70\n",
      "37/37 [==============================] - 24s 656ms/step - loss: 0.4233 - acc: 0.8352 - val_loss: 1.0195 - val_acc: 0.6764\n",
      "Epoch 70/70\n",
      "37/37 [==============================] - 25s 687ms/step - loss: 0.4064 - acc: 0.8419 - val_loss: 0.9614 - val_acc: 0.6753\n"
     ]
    },
    {
     "data": {
      "text/plain": [
       "<keras.callbacks.History at 0x7efd83f6d5c0>"
      ]
     },
     "execution_count": 19,
     "metadata": {},
     "output_type": "execute_result"
    }
   ],
   "source": [
    "#fit With data Augumentation:\n",
    "model1.fit_generator(datagen.flow(train_data, train_labels_one_hot,\n",
    "           batch_size=batch_size),\n",
    "          epochs=epochs,\n",
    "          verbose=1,\n",
    "          validation_data=(test_data, test_labels_one_hot))"
   ]
  },
  {
   "cell_type": "code",
   "execution_count": null,
   "metadata": {},
   "outputs": [],
   "source": [
    "#fit without data augmentation:\n",
    "# model1.fit(train_data, train_labels_one_hot,\n",
    "#            batch_size=batch_size,\n",
    "#           epochs=epochs,\n",
    "#           verbose=1,\n",
    "#           validation_data=(test_data, test_labels_one_hot))"
   ]
  },
  {
   "cell_type": "code",
   "execution_count": 20,
   "metadata": {},
   "outputs": [
    {
     "name": "stdout",
     "output_type": "stream",
     "text": [
      "924/924 [==============================] - 1s 1ms/step\n"
     ]
    },
    {
     "data": {
      "text/plain": [
       "[0.9614107851342205, 0.675324674550589]"
      ]
     },
     "execution_count": 20,
     "metadata": {},
     "output_type": "execute_result"
    }
   ],
   "source": [
    "model1.evaluate(test_data, test_labels_one_hot)"
   ]
  },
  {
   "cell_type": "code",
   "execution_count": 23,
   "metadata": {},
   "outputs": [
    {
     "ename": "NameError",
     "evalue": "name 'history' is not defined",
     "output_type": "error",
     "traceback": [
      "\u001b[0;31m---------------------------------------------------------------------------\u001b[0m",
      "\u001b[0;31mNameError\u001b[0m                                 Traceback (most recent call last)",
      "\u001b[0;32m<ipython-input-23-b28f492bec99>\u001b[0m in \u001b[0;36m<module>\u001b[0;34m()\u001b[0m\n\u001b[1;32m      1\u001b[0m \u001b[0;31m#Training Loss and Validation Loss\u001b[0m\u001b[0;34m\u001b[0m\u001b[0;34m\u001b[0m\u001b[0m\n\u001b[1;32m      2\u001b[0m \u001b[0mplt\u001b[0m\u001b[0;34m.\u001b[0m\u001b[0mfigure\u001b[0m\u001b[0;34m(\u001b[0m\u001b[0mfigsize\u001b[0m\u001b[0;34m=\u001b[0m\u001b[0;34m[\u001b[0m\u001b[0;36m8\u001b[0m\u001b[0;34m,\u001b[0m\u001b[0;36m6\u001b[0m\u001b[0;34m]\u001b[0m\u001b[0;34m)\u001b[0m\u001b[0;34m\u001b[0m\u001b[0m\n\u001b[0;32m----> 3\u001b[0;31m \u001b[0mplt\u001b[0m\u001b[0;34m.\u001b[0m\u001b[0mplot\u001b[0m\u001b[0;34m(\u001b[0m\u001b[0mhistory\u001b[0m\u001b[0;34m.\u001b[0m\u001b[0mmodel1\u001b[0m\u001b[0;34m[\u001b[0m\u001b[0;34m'loss'\u001b[0m\u001b[0;34m]\u001b[0m\u001b[0;34m,\u001b[0m\u001b[0;34m'r'\u001b[0m\u001b[0;34m,\u001b[0m\u001b[0mlinewidth\u001b[0m\u001b[0;34m=\u001b[0m\u001b[0;36m3.0\u001b[0m\u001b[0;34m)\u001b[0m\u001b[0;34m\u001b[0m\u001b[0m\n\u001b[0m\u001b[1;32m      4\u001b[0m \u001b[0mplt\u001b[0m\u001b[0;34m.\u001b[0m\u001b[0mplot\u001b[0m\u001b[0;34m(\u001b[0m\u001b[0mhistory\u001b[0m\u001b[0;34m.\u001b[0m\u001b[0mmodel1\u001b[0m\u001b[0;34m[\u001b[0m\u001b[0;34m'val_loss'\u001b[0m\u001b[0;34m]\u001b[0m\u001b[0;34m,\u001b[0m\u001b[0;34m'b'\u001b[0m\u001b[0;34m,\u001b[0m\u001b[0mlinewidth\u001b[0m\u001b[0;34m=\u001b[0m\u001b[0;36m3.0\u001b[0m\u001b[0;34m)\u001b[0m\u001b[0;34m\u001b[0m\u001b[0m\n\u001b[1;32m      5\u001b[0m \u001b[0mplt\u001b[0m\u001b[0;34m.\u001b[0m\u001b[0mlegend\u001b[0m\u001b[0;34m(\u001b[0m\u001b[0;34m[\u001b[0m\u001b[0;34m'Training loss'\u001b[0m\u001b[0;34m,\u001b[0m \u001b[0;34m'Validation Loss'\u001b[0m\u001b[0;34m]\u001b[0m\u001b[0;34m,\u001b[0m\u001b[0mfontsize\u001b[0m\u001b[0;34m=\u001b[0m\u001b[0;36m18\u001b[0m\u001b[0;34m)\u001b[0m\u001b[0;34m\u001b[0m\u001b[0m\n",
      "\u001b[0;31mNameError\u001b[0m: name 'history' is not defined"
     ]
    },
    {
     "data": {
      "text/plain": [
       "<Figure size 576x432 with 0 Axes>"
      ]
     },
     "metadata": {},
     "output_type": "display_data"
    }
   ],
   "source": [
    "#Training Loss and Validation Loss\n",
    "plt.figure(figsize=[8,6])\n",
    "plt.plot(history.model1['loss'],'r',linewidth=3.0)\n",
    "plt.plot(history.model1['val_loss'],'b',linewidth=3.0)\n",
    "plt.legend(['Training loss', 'Validation Loss'],fontsize=18)\n",
    "plt.xlabel('Epochs ',fontsize=16)\n",
    "plt.ylabel('Loss',fontsize=16)\n",
    "plt.title('Loss Curves',fontsize=16)"
   ]
  },
  {
   "cell_type": "code",
   "execution_count": null,
   "metadata": {},
   "outputs": [],
   "source": [
    "#Training Accuracy and Validation Accuracy\n",
    "plt.figure(figsize=[8,6])\n",
    "plt.plot(history.history['acc'],'r',linewidth=3.0)\n",
    "plt.plot(history.history['val_acc'],'b',linewidth=3.0)\n",
    "plt.legend(['Training Accuracy', 'Validation Accuracy'],fontsize=18)\n",
    "plt.xlabel('Epochs ',fontsize=16)\n",
    "plt.ylabel('Accuracy',fontsize=16)\n",
    "plt.title('Accuracy Curves',fontsize=16)"
   ]
  },
  {
   "cell_type": "code",
   "execution_count": 32,
   "metadata": {},
   "outputs": [
    {
     "data": {
      "text/plain": [
       "(1, 224, 224, 3)"
      ]
     },
     "execution_count": 32,
     "metadata": {},
     "output_type": "execute_result"
    }
   ],
   "source": [
    "#Testing the mdoel (prediction)\n",
    "test = [] \n",
    "test_file = '/home/dl1/fashionCNN/coat.jpg'\n",
    "testImage = Image.open(img).convert('RGB')\n",
    "testImage = testImage.resize((224,224))\n",
    "testImage = np.array(testImage)\n",
    "test.append(testImage)\n",
    "test_in = np.asarray(test)\n",
    "test_in.astype('float32')\n",
    "test_in/255\n",
    "test_in.shape"
   ]
  },
  {
   "cell_type": "code",
   "execution_count": 34,
   "metadata": {},
   "outputs": [
    {
     "data": {
      "text/plain": [
       "array([3])"
      ]
     },
     "execution_count": 34,
     "metadata": {},
     "output_type": "execute_result"
    }
   ],
   "source": [
    "pred = model1.predict_classes(test_in)\n",
    "pred.ravel()"
   ]
  },
  {
   "cell_type": "code",
   "execution_count": null,
   "metadata": {},
   "outputs": [],
   "source": []
  }
 ],
 "metadata": {
  "kernelspec": {
   "display_name": "Python 3",
   "language": "python",
   "name": "python3"
  },
  "language_info": {
   "codemirror_mode": {
    "name": "ipython",
    "version": 3
   },
   "file_extension": ".py",
   "mimetype": "text/x-python",
   "name": "python",
   "nbconvert_exporter": "python",
   "pygments_lexer": "ipython3",
   "version": "3.6.4"
  }
 },
 "nbformat": 4,
 "nbformat_minor": 2
}
