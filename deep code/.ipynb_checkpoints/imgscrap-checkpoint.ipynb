{
 "cells": [
  {
   "cell_type": "code",
   "execution_count": 1,
   "metadata": {},
   "outputs": [],
   "source": [
    "import urllib\n",
    "import urllib.request\n",
    "import requests\n",
    "from bs4 import BeautifulSoup\n",
    "\n",
    "url = 'https://www.google.co.uk/search?q=shirt+images&rlz=1C1GGRV_enGB767GB767&source=lnms&tbm=isch&sa=X&ved=0ahUKEwjk6qTJpv3ZAhXMC8AKHX40DUMQ_AUICigB&biw=1024&bih=666'\n",
    "\n",
    "contents = requests.get(url).content\n",
    "soup = BeautifulSoup(contents, \"lxml\")\n",
    "img = []\n",
    "for link in soup.find_all('img'):\n",
    "    image=link.get('src')\n",
    "    img.append(image)\n",
    "        \n",
    "for i, ur in enumerate(img):\n",
    "    \n",
    "    urllib.request.urlretrieve(ur,\"/home/dl1/fashionCNN/deep code/testfoldershirt/s_\" + str(i) + \".jpg\")"
   ]
  },
  {
   "cell_type": "code",
   "execution_count": null,
   "metadata": {},
   "outputs": [],
   "source": []
  }
 ],
 "metadata": {
  "kernelspec": {
   "display_name": "Python 3",
   "language": "python",
   "name": "python3"
  },
  "language_info": {
   "codemirror_mode": {
    "name": "ipython",
    "version": 3
   },
   "file_extension": ".py",
   "mimetype": "text/x-python",
   "name": "python",
   "nbconvert_exporter": "python",
   "pygments_lexer": "ipython3",
   "version": "3.6.4"
  }
 },
 "nbformat": 4,
 "nbformat_minor": 2
}
